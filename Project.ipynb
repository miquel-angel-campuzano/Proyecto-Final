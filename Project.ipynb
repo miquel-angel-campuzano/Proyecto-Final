{
 "metadata": {
  "language_info": {
   "codemirror_mode": {
    "name": "ipython",
    "version": 3
   },
   "file_extension": ".py",
   "mimetype": "text/x-python",
   "name": "python",
   "nbconvert_exporter": "python",
   "pygments_lexer": "ipython3",
   "version": "3.8.10"
  },
  "orig_nbformat": 2,
  "kernelspec": {
   "name": "python3",
   "display_name": "Python 3.8.10 64-bit ('proyecto_final': conda)"
  },
  "metadata": {
   "interpreter": {
    "hash": "3f17f766c853c4739516ea22dbe3815722d309d310fbe27c0b5d40118defcd55"
   }
  },
  "interpreter": {
   "hash": "82d79d11d6f3e4b03aa598145dd31a38e9edc0989fbd79ea8eea2d57b3972f83"
  }
 },
 "nbformat": 4,
 "nbformat_minor": 2,
 "cells": [
  {
   "cell_type": "code",
   "execution_count": 247,
   "source": [
    "import pandas as pd\n",
    "import numpy as np\n",
    "import xgboost as xgb\n",
    "from xgboost import XGBClassifier\n",
    "from xgboost import plot_importance\n",
    "import psycopg2\n",
    "import pickle\n",
    "from sklearn import preprocessing\n",
    "import credentials\n",
    "from sklearn.model_selection import learning_curve,GridSearchCV,train_test_split\n",
    "import matplotlib.pylab as plt\n",
    "import matplotlib.pyplot as plt1\n",
    "from sklearn.metrics import mean_absolute_error\n",
    "from sklearn.metrics import accuracy_score\n",
    "from sklearn.metrics import confusion_matrix,roc_auc_score\n",
    "from matplotlib import pyplot\n",
    "from sklearn.metrics import accuracy_score\n",
    "from sklearn.metrics import confusion_matrix"
   ],
   "outputs": [],
   "metadata": {}
  },
  {
   "cell_type": "code",
   "execution_count": 248,
   "source": [
    "# Connect to SQL Database\n",
    "\n",
    "con=psycopg2.connect(dbname= credentials.dbname, host=credentials.host, \n",
    "port= credentials.port, user= credentials.user, password= credentials.password)\n"
   ],
   "outputs": [],
   "metadata": {}
  },
  {
   "cell_type": "code",
   "execution_count": 249,
   "source": [
    "# Open the query that creates my dataset\n",
    "\n",
    "fd = open(r'/Users/miqui/Documents/Miqui/Preply/Tutor Performance/Projects/Q3/TWA/TWA_Query.sql', 'r')\n",
    "twa_query = fd.read()\n",
    "fd.close()"
   ],
   "outputs": [],
   "metadata": {}
  },
  {
   "cell_type": "code",
   "execution_count": 250,
   "source": [
    "# Store it in a variable\n",
    "\n",
    "file = open('/Users/miqui/Documents/Miqui/Preply/Tutor Performance/Projects/Q3/TWA/TWA_Query.sql').read()"
   ],
   "outputs": [],
   "metadata": {}
  },
  {
   "cell_type": "code",
   "execution_count": 251,
   "source": [
    "# Create a DataFrame based on the query:\n",
    "\n",
    "data = pd.read_sql(file, con)"
   ],
   "outputs": [],
   "metadata": {}
  },
  {
   "cell_type": "code",
   "execution_count": 252,
   "source": [
    "# Columns:\n",
    "\n",
    "data.columns"
   ],
   "outputs": [
    {
     "output_type": "execute_result",
     "data": {
      "text/plain": [
       "Index(['tutor_id', 'student_id', 'subject', 'lesson_ts', 'previous_lesson',\n",
       "       'duration', 'is_back_to_back_lesson', 'created_ts', 'booking_window',\n",
       "       'booking_window_bin', 'lesson_id', 'tutor_lesson_order', 'first_lesson',\n",
       "       'twa_flag', 'performance_segment', 'activity_segment_per_tutor_subject',\n",
       "       'country_of_birth', 'date_first_approved', 'num_twa_last_30d',\n",
       "       'days_since_last_seen', 'days_since_last_seen_bin', 'local_lesson_ts',\n",
       "       'local_lesson_ts_date', 'local_lesson_hour', 'lesson_time_of_day',\n",
       "       'local_booking_time', 'hour_offset_tutor', 'hour_offset_student',\n",
       "       'hour_differences_tutor_student', 'local_booking_time_date',\n",
       "       'local_booking_hour', 'booking_time_of_day', 'num_lessons_per_day',\n",
       "       'one_lesson_per_day', 'app_usage', 'response_time',\n",
       "       'response_time_bin'],\n",
       "      dtype='object')"
      ]
     },
     "metadata": {},
     "execution_count": 252
    }
   ],
   "metadata": {}
  },
  {
   "cell_type": "code",
   "execution_count": 253,
   "source": [
    " # Some Data Cleaning:\n",
    "\n",
    "data[\"twa_flag\"].value_counts()\n",
    "\n",
    "data[\"is_twa\"] = data.apply(lambda x: 1 if x[\"twa_flag\"] == 1 else 0, axis = 1)\n",
    "\n",
    "data[\"first_lesson\"] = data.apply(lambda x: 0 if x[\"first_lesson\"] == \"Not the first\" else 1, axis = 1)\n"
   ],
   "outputs": [],
   "metadata": {}
  },
  {
   "cell_type": "code",
   "execution_count": 254,
   "source": [
    "# TWA Rate of my dataset\n",
    "\n",
    "data[\"twa_flag\"].value_counts()[1] / data[\"twa_flag\"].value_counts()[0] # 3.7% of TWA rate with null values"
   ],
   "outputs": [
    {
     "output_type": "execute_result",
     "data": {
      "text/plain": [
       "0.03710381332058267"
      ]
     },
     "metadata": {},
     "execution_count": 254
    }
   ],
   "metadata": {}
  },
  {
   "cell_type": "code",
   "execution_count": 255,
   "source": [
    "# TWA Rate of the reduced dataset (after getting rid of all the nulls)\n",
    "\n",
    "data_new = data.dropna()\n",
    "data_new[\"twa_flag\"].value_counts()[1] / data_new[\"twa_flag\"].value_counts()[0] # 3.2% of TWA rate without null values. Would you reccommend to delete them or do something like KNN imputer. From business perspective, I'd rather not make anything up."
   ],
   "outputs": [
    {
     "output_type": "execute_result",
     "data": {
      "text/plain": [
       "0.031844258780303954"
      ]
     },
     "metadata": {},
     "execution_count": 255
    }
   ],
   "metadata": {}
  },
  {
   "cell_type": "code",
   "execution_count": 256,
   "source": [
    "X = data_new[['is_back_to_back_lesson', 'booking_window',\n",
    "         'first_lesson',\n",
    "       'days_since_last_seen',\n",
    "       'local_lesson_hour',\n",
    "      'num_twa_last_30d',\n",
    "       'hour_differences_tutor_student',\n",
    "       'local_booking_hour',\n",
    "       'one_lesson_per_day', 'app_usage', 'response_time']]\n",
    "Y = data_new[['is_twa']]\n"
   ],
   "outputs": [],
   "metadata": {}
  },
  {
   "cell_type": "code",
   "execution_count": 257,
   "source": [
    "seed = 7\n",
    "test_size = 0.33\n",
    "X_train, X_test, y_train, y_test = train_test_split(X, Y, test_size=test_size, random_state=seed)\n",
    "model = XGBClassifier()\n",
    "eval_set  = [( X_train, y_train), ( X_test, y_test)]\n",
    "model.fit(X_train, y_train,eval_set=eval_set,early_stopping_rounds=10)\n",
    "\n",
    "import pickle\n",
    "file_name = \"twa_20210514.pkl\"\n",
    "# save\n",
    "pickle.dump(model, open(file_name, \"wb\"))\n",
    "\n",
    "y_pred = model.predict_proba(X_test)"
   ],
   "outputs": [
    {
     "output_type": "stream",
     "name": "stdout",
     "text": [
      "[22:14:23] WARNING: /opt/concourse/worker/volumes/live/7a2b9f41-3287-451b-6691-43e9a6c0910f/volume/xgboost-split_1619728204606/work/src/learner.cc:1061: Starting in XGBoost 1.3.0, the default evaluation metric used with the objective 'binary:logistic' was changed from 'error' to 'logloss'. Explicitly set eval_metric if you'd like to restore the old behavior.\n",
      "[0]\tvalidation_0-logloss:0.46464\tvalidation_1-logloss:0.46520\n"
     ]
    },
    {
     "output_type": "stream",
     "name": "stderr",
     "text": [
      "/Users/miqui/opt/anaconda3/envs/proyecto_final/lib/python3.8/site-packages/xgboost/sklearn.py:888: UserWarning: The use of label encoder in XGBClassifier is deprecated and will be removed in a future release. To remove this warning, do the following: 1) Pass option use_label_encoder=False when constructing XGBClassifier object; and 2) Encode your labels (y) as integers starting with 0, i.e. 0, 1, 2, ..., [num_class - 1].\n",
      "  warnings.warn(label_encoder_deprecation_msg, UserWarning)\n",
      "/Users/miqui/opt/anaconda3/envs/proyecto_final/lib/python3.8/site-packages/sklearn/utils/validation.py:63: DataConversionWarning: A column-vector y was passed when a 1d array was expected. Please change the shape of y to (n_samples, ), for example using ravel().\n",
      "  return f(*args, **kwargs)\n"
     ]
    },
    {
     "output_type": "stream",
     "name": "stdout",
     "text": [
      "[1]\tvalidation_0-logloss:0.33948\tvalidation_1-logloss:0.34060\n",
      "[2]\tvalidation_0-logloss:0.26223\tvalidation_1-logloss:0.26381\n",
      "[3]\tvalidation_0-logloss:0.21191\tvalidation_1-logloss:0.21397\n",
      "[4]\tvalidation_0-logloss:0.17828\tvalidation_1-logloss:0.18078\n",
      "[5]\tvalidation_0-logloss:0.15547\tvalidation_1-logloss:0.15834\n",
      "[6]\tvalidation_0-logloss:0.13997\tvalidation_1-logloss:0.14317\n",
      "[7]\tvalidation_0-logloss:0.12940\tvalidation_1-logloss:0.13306\n",
      "[8]\tvalidation_0-logloss:0.12220\tvalidation_1-logloss:0.12626\n",
      "[9]\tvalidation_0-logloss:0.11736\tvalidation_1-logloss:0.12184\n",
      "[10]\tvalidation_0-logloss:0.11410\tvalidation_1-logloss:0.11900\n",
      "[11]\tvalidation_0-logloss:0.11180\tvalidation_1-logloss:0.11729\n",
      "[12]\tvalidation_0-logloss:0.11033\tvalidation_1-logloss:0.11618\n",
      "[13]\tvalidation_0-logloss:0.10922\tvalidation_1-logloss:0.11552\n",
      "[14]\tvalidation_0-logloss:0.10835\tvalidation_1-logloss:0.11501\n",
      "[15]\tvalidation_0-logloss:0.10774\tvalidation_1-logloss:0.11474\n",
      "[16]\tvalidation_0-logloss:0.10725\tvalidation_1-logloss:0.11455\n",
      "[17]\tvalidation_0-logloss:0.10673\tvalidation_1-logloss:0.11441\n",
      "[18]\tvalidation_0-logloss:0.10632\tvalidation_1-logloss:0.11438\n",
      "[19]\tvalidation_0-logloss:0.10603\tvalidation_1-logloss:0.11435\n",
      "[20]\tvalidation_0-logloss:0.10582\tvalidation_1-logloss:0.11429\n",
      "[21]\tvalidation_0-logloss:0.10554\tvalidation_1-logloss:0.11435\n",
      "[22]\tvalidation_0-logloss:0.10535\tvalidation_1-logloss:0.11429\n",
      "[23]\tvalidation_0-logloss:0.10496\tvalidation_1-logloss:0.11434\n",
      "[24]\tvalidation_0-logloss:0.10461\tvalidation_1-logloss:0.11439\n",
      "[25]\tvalidation_0-logloss:0.10450\tvalidation_1-logloss:0.11440\n",
      "[26]\tvalidation_0-logloss:0.10425\tvalidation_1-logloss:0.11450\n",
      "[27]\tvalidation_0-logloss:0.10402\tvalidation_1-logloss:0.11448\n",
      "[28]\tvalidation_0-logloss:0.10392\tvalidation_1-logloss:0.11452\n",
      "[29]\tvalidation_0-logloss:0.10386\tvalidation_1-logloss:0.11452\n",
      "[30]\tvalidation_0-logloss:0.10367\tvalidation_1-logloss:0.11454\n"
     ]
    }
   ],
   "metadata": {}
  },
  {
   "cell_type": "code",
   "execution_count": 258,
   "source": [
    "pd.DataFrame(y_test)[\"is_twa\"].value_counts()"
   ],
   "outputs": [
    {
     "output_type": "execute_result",
     "data": {
      "text/plain": [
       "0    73105\n",
       "1     2334\n",
       "Name: is_twa, dtype: int64"
      ]
     },
     "metadata": {},
     "execution_count": 258
    }
   ],
   "metadata": {}
  },
  {
   "cell_type": "code",
   "execution_count": 259,
   "source": [
    "plot_importance(model)"
   ],
   "outputs": [
    {
     "output_type": "execute_result",
     "data": {
      "text/plain": [
       "<AxesSubplot:title={'center':'Feature importance'}, xlabel='F score', ylabel='Features'>"
      ]
     },
     "metadata": {},
     "execution_count": 259
    },
    {
     "output_type": "display_data",
     "data": {
      "text/plain": [
       "<Figure size 432x288 with 1 Axes>"
      ],
      "image/png": "[encoded data removed]"
     },
     "metadata": {
      "needs_background": "light"
     }
    }
   ],
   "metadata": {}
  },
  {
   "cell_type": "code",
   "execution_count": 264,
   "source": [
    "# Predicting code:\n",
    "\n",
    "file = open(\"twa_20210514.pkl\",'rb')\n",
    "twa_model = pickle.load(file)\n",
    "file.close()\n",
    "\n",
    "fd = open(r'/Users/miqui/Documents/Miqui/Preply/Tutor Performance/Projects/Q3/TWA/TWA_Query_tutors.sql', 'r')\n",
    "twa_query = fd.read()\n",
    "fd.close()\n",
    "\n",
    "data_predict = pd.read_sql(twa_query, con)\n",
    "\n",
    "data_predict['twa_prob'] = twa_model.predict_proba(data_predict[twa_model.get_booster().feature_names])[:,1]\n",
    "data_predict['is_bad_twa'] = 1*(data_predict['twa_prob']>=0.25) # Buscar la mínima probabilidad e un tutor que ha hecho TWA.\n",
    "data_predict_final = data_predict[['tutor_id', 'twa_prob', 'is_bad_twa', 'num_twa_last_30d']]\n",
    "\n",
    "# Binomial"
   ],
   "outputs": [],
   "metadata": {}
  },
  {
   "cell_type": "code",
   "execution_count": 192,
   "source": [
    "data_predict_final[data_predict_final['is_bad_twa']==1]['tutor_id'].to_csv(\"tutors_predicted.csv\")"
   ],
   "outputs": [],
   "metadata": {}
  },
  {
   "cell_type": "code",
   "execution_count": 263,
   "source": [
    "np.mean(data_predict_final[data_predict_final['num_twa_last_30d']>=1]['twa_prob'])"
   ],
   "outputs": [
    {
     "output_type": "execute_result",
     "data": {
      "text/plain": [
       "0.25098180770874023"
      ]
     },
     "metadata": {},
     "execution_count": 263
    }
   ],
   "metadata": {}
  },
  {
   "cell_type": "code",
   "execution_count": 265,
   "source": [
    "data_predict[data_predict_final['is_bad_twa']==1].head()"
   ],
   "outputs": [
    {
     "output_type": "execute_result",
     "data": {
      "text/plain": [
       "     tutor_id  subject date_to_join  num_twa_last_30d  is_back_to_back_lesson  \\\n",
       "30      40841  english   2021-06-08                 0                     0.0   \n",
       "35     308436  english   2021-06-08                 0                     0.0   \n",
       "54    1590636     math   2021-06-08                 0                     0.0   \n",
       "108    241729  english   2021-06-09                 0                     0.0   \n",
       "168   1231179  english   2021-06-09                 0                     0.0   \n",
       "\n",
       "     booking_window  first_lesson  days_since_last_seen  local_lesson_hour  \\\n",
       "30             58.0          0.25                  17.0              12.75   \n",
       "35             29.0          0.00                 375.0              12.00   \n",
       "54            138.0          1.00                  11.0              14.00   \n",
       "108           165.5          0.50                 160.0              11.50   \n",
       "168            40.0          1.00                   6.0              16.00   \n",
       "\n",
       "     hour_differences_tutor_student  local_booking_hour  one_lesson_per_day  \\\n",
       "30                             2.25               14.75                 1.0   \n",
       "35                             7.00                7.00                 1.0   \n",
       "54                             3.00               20.00                 1.0   \n",
       "108                            0.00               14.00                 1.0   \n",
       "168                            2.00                0.00                 1.0   \n",
       "\n",
       "     app_usage  response_time  twa_prob  is_bad_twa  \n",
       "30         0.0         13.225  0.506872           1  \n",
       "35         0.0          0.000  0.435729           1  \n",
       "54         0.0          0.000  0.539303           1  \n",
       "108        0.0          0.000  0.776900           1  \n",
       "168        0.0          0.000  0.655906           1  "
      ],
      "text/html": [
       "<div>\n",
       "<style scoped>\n",
       "    .dataframe tbody tr th:only-of-type {\n",
       "        vertical-align: middle;\n",
       "    }\n",
       "\n",
       "    .dataframe tbody tr th {\n",
       "        vertical-align: top;\n",
       "    }\n",
       "\n",
       "    .dataframe thead th {\n",
       "        text-align: right;\n",
       "    }\n",
       "</style>\n",
       "<table border=\"1\" class=\"dataframe\">\n",
       "  <thead>\n",
       "    <tr style=\"text-align: right;\">\n",
       "      <th></th>\n",
       "      <th>tutor_id</th>\n",
       "      <th>subject</th>\n",
       "      <th>date_to_join</th>\n",
       "      <th>num_twa_last_30d</th>\n",
       "      <th>is_back_to_back_lesson</th>\n",
       "      <th>booking_window</th>\n",
       "      <th>first_lesson</th>\n",
       "      <th>days_since_last_seen</th>\n",
       "      <th>local_lesson_hour</th>\n",
       "      <th>hour_differences_tutor_student</th>\n",
       "      <th>local_booking_hour</th>\n",
       "      <th>one_lesson_per_day</th>\n",
       "      <th>app_usage</th>\n",
       "      <th>response_time</th>\n",
       "      <th>twa_prob</th>\n",
       "      <th>is_bad_twa</th>\n",
       "    </tr>\n",
       "  </thead>\n",
       "  <tbody>\n",
       "    <tr>\n",
       "      <th>30</th>\n",
       "      <td>40841</td>\n",
       "      <td>english</td>\n",
       "      <td>2021-06-08</td>\n",
       "      <td>0</td>\n",
       "      <td>0.0</td>\n",
       "      <td>58.0</td>\n",
       "      <td>0.25</td>\n",
       "      <td>17.0</td>\n",
       "      <td>12.75</td>\n",
       "      <td>2.25</td>\n",
       "      <td>14.75</td>\n",
       "      <td>1.0</td>\n",
       "      <td>0.0</td>\n",
       "      <td>13.225</td>\n",
       "      <td>0.506872</td>\n",
       "      <td>1</td>\n",
       "    </tr>\n",
       "    <tr>\n",
       "      <th>35</th>\n",
       "      <td>308436</td>\n",
       "      <td>english</td>\n",
       "      <td>2021-06-08</td>\n",
       "      <td>0</td>\n",
       "      <td>0.0</td>\n",
       "      <td>29.0</td>\n",
       "      <td>0.00</td>\n",
       "      <td>375.0</td>\n",
       "      <td>12.00</td>\n",
       "      <td>7.00</td>\n",
       "      <td>7.00</td>\n",
       "      <td>1.0</td>\n",
       "      <td>0.0</td>\n",
       "      <td>0.000</td>\n",
       "      <td>0.435729</td>\n",
       "      <td>1</td>\n",
       "    </tr>\n",
       "    <tr>\n",
       "      <th>54</th>\n",
       "      <td>1590636</td>\n",
       "      <td>math</td>\n",
       "      <td>2021-06-08</td>\n",
       "      <td>0</td>\n",
       "      <td>0.0</td>\n",
       "      <td>138.0</td>\n",
       "      <td>1.00</td>\n",
       "      <td>11.0</td>\n",
       "      <td>14.00</td>\n",
       "      <td>3.00</td>\n",
       "      <td>20.00</td>\n",
       "      <td>1.0</td>\n",
       "      <td>0.0</td>\n",
       "      <td>0.000</td>\n",
       "      <td>0.539303</td>\n",
       "      <td>1</td>\n",
       "    </tr>\n",
       "    <tr>\n",
       "      <th>108</th>\n",
       "      <td>241729</td>\n",
       "      <td>english</td>\n",
       "      <td>2021-06-09</td>\n",
       "      <td>0</td>\n",
       "      <td>0.0</td>\n",
       "      <td>165.5</td>\n",
       "      <td>0.50</td>\n",
       "      <td>160.0</td>\n",
       "      <td>11.50</td>\n",
       "      <td>0.00</td>\n",
       "      <td>14.00</td>\n",
       "      <td>1.0</td>\n",
       "      <td>0.0</td>\n",
       "      <td>0.000</td>\n",
       "      <td>0.776900</td>\n",
       "      <td>1</td>\n",
       "    </tr>\n",
       "    <tr>\n",
       "      <th>168</th>\n",
       "      <td>1231179</td>\n",
       "      <td>english</td>\n",
       "      <td>2021-06-09</td>\n",
       "      <td>0</td>\n",
       "      <td>0.0</td>\n",
       "      <td>40.0</td>\n",
       "      <td>1.00</td>\n",
       "      <td>6.0</td>\n",
       "      <td>16.00</td>\n",
       "      <td>2.00</td>\n",
       "      <td>0.00</td>\n",
       "      <td>1.0</td>\n",
       "      <td>0.0</td>\n",
       "      <td>0.000</td>\n",
       "      <td>0.655906</td>\n",
       "      <td>1</td>\n",
       "    </tr>\n",
       "  </tbody>\n",
       "</table>\n",
       "</div>"
      ]
     },
     "metadata": {},
     "execution_count": 265
    }
   ],
   "metadata": {}
  },
  {
   "cell_type": "code",
   "execution_count": 268,
   "source": [
    "data_predict_final[\"is_bad_twa\"].value_counts()"
   ],
   "outputs": [
    {
     "output_type": "execute_result",
     "data": {
      "text/plain": [
       "0    32316\n",
       "1     2555\n",
       "Name: is_bad_twa, dtype: int64"
      ]
     },
     "metadata": {},
     "execution_count": 268
    }
   ],
   "metadata": {}
  },
  {
   "cell_type": "code",
   "execution_count": null,
   "source": [],
   "outputs": [],
   "metadata": {}
  }
 ]
}