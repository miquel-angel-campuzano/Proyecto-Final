{
 "metadata": {
  "language_info": {
   "codemirror_mode": {
    "name": "ipython",
    "version": 3
   },
   "file_extension": ".py",
   "mimetype": "text/x-python",
   "name": "python",
   "nbconvert_exporter": "python",
   "pygments_lexer": "ipython3",
   "version": "3.8.10"
  },
  "orig_nbformat": 2,
  "kernelspec": {
   "name": "python3",
   "display_name": "Python 3.8.10 64-bit ('proyecto_final': conda)"
  },
  "metadata": {
   "interpreter": {
    "hash": "3f17f766c853c4739516ea22dbe3815722d309d310fbe27c0b5d40118defcd55"
   }
  },
  "interpreter": {
   "hash": "82d79d11d6f3e4b03aa598145dd31a38e9edc0989fbd79ea8eea2d57b3972f83"
  }
 },
 "nbformat": 4,
 "nbformat_minor": 2,
 "cells": [
  {
   "cell_type": "markdown",
   "source": [
    "# Load Libraries"
   ],
   "metadata": {}
  },
  {
   "cell_type": "code",
   "execution_count": 2,
   "source": [
    "import pandas as pd\n",
    "import numpy as np\n",
    "import credentials\n",
    "import pickle\n",
    "import psycopg2\n",
    "import datetime\n",
    "import xgboost as xgb\n",
    "from xgboost import XGBClassifier\n",
    "from xgboost import plot_importance\n",
    "from sklearn import preprocessing\n",
    "from sklearn.model_selection import learning_curve,GridSearchCV,train_test_split, RandomizedSearchCV\n",
    "from sklearn.impute import KNNImputer\n",
    "from sklearn.metrics import mean_absolute_error\n",
    "from sklearn.metrics import accuracy_score\n",
    "from sklearn.metrics import confusion_matrix, roc_auc_score\n",
    "from sklearn.metrics import accuracy_score\n",
    "from sklearn.metrics import confusion_matrix\n",
    "from sklearn.metrics import classification_report\n",
    "from sklearn.pipeline import Pipeline\n",
    "from imblearn.pipeline import Pipeline\n",
    "from imblearn.over_sampling import SMOTE\n",
    "from imblearn.combine import SMOTEENN\n",
    "import matplotlib.pylab as plt\n",
    "import matplotlib.pyplot as plt1\n",
    "from matplotlib import pyplot\n"
   ],
   "outputs": [],
   "metadata": {}
  },
  {
   "cell_type": "markdown",
   "source": [
    "# Connect to SQL Database\n",
    "\n",
    "- For the first time accessing the data, read it directly from SQL"
   ],
   "metadata": {}
  },
  {
   "cell_type": "code",
   "execution_count": 2,
   "source": [
    "con=psycopg2.connect(dbname= credentials.dbname, host=credentials.host, \n",
    "port= credentials.port, user= credentials.user, password= credentials.password)\n"
   ],
   "outputs": [],
   "metadata": {}
  },
  {
   "cell_type": "markdown",
   "source": [
    "## Open the query that creates my modeling dataset\n"
   ],
   "metadata": {}
  },
  {
   "cell_type": "code",
   "execution_count": 3,
   "source": [
    "fd = open(r'/Users/miqui/Documents/Miqui/Preply/Tutor Performance/Projects/Q3/TWA/TWA Predict/TWA_Query.sql', 'r')\n",
    "twa_query = fd.read()\n",
    "fd.close()\n",
    "file = open('/Users/miqui/Documents/Miqui/Preply/Tutor Performance/Projects/Q3/TWA/TWA Predict/TWA_Query.sql').read()"
   ],
   "outputs": [],
   "metadata": {}
  },
  {
   "cell_type": "markdown",
   "source": [
    "## Create a modeling DataFrame based on the query\n",
    "\n",
    "- This is the DataFrame that will be used to train and test the XGBOOST model"
   ],
   "metadata": {}
  },
  {
   "cell_type": "code",
   "execution_count": 311,
   "source": [
    "data = pd.read_sql(file, con)"
   ],
   "outputs": [],
   "metadata": {}
  },
  {
   "cell_type": "code",
   "execution_count": 304,
   "source": [
    "data.to_csv(\"full_dataset.csv\")"
   ],
   "outputs": [],
   "metadata": {}
  },
  {
   "cell_type": "code",
   "execution_count": 3,
   "source": [
    "data = pd.read_csv('/Users/miqui/Documents/Miqui/Preply/Tutor Performance/Projects/Q3/TWA/TWA Predict/full_dataset.csv', parse_dates = ['lesson_ts'])"
   ],
   "outputs": [],
   "metadata": {}
  },
  {
   "cell_type": "markdown",
   "source": [
    "## Create prediciting DataFrame\n",
    "\n",
    "- This dataset will be used to predict the probability that the tutor does a TWA based on the averages of the metrics used to train the model\n",
    "- Note that in order to train the model, we used a dataset based per each lesson while in this case we have reduced the dataset at the tutor level\n",
    "- It will be used for backtesting. The \"prdicitng\" dataframe is based on the first 4 months of the dataset, while the evaluation dataset contains information of the last 2 months"
   ],
   "metadata": {}
  },
  {
   "cell_type": "code",
   "execution_count": 232,
   "source": [
    "data['lesson_ts'] = data['lesson_ts'].apply(lambda x: x.date())"
   ],
   "outputs": [],
   "metadata": {}
  },
  {
   "cell_type": "code",
   "execution_count": 236,
   "source": [
    "data_predict = data[data['lesson_ts']<datetime.date(2021,5,28)]"
   ],
   "outputs": [
    {
     "output_type": "execute_result",
     "data": {
      "text/plain": [
       "   Unnamed: 0  Unnamed: 0.1  tutor_id  student_id  subject   lesson_ts  \\\n",
       "0           0             0        39     1331272  english  2021-01-30   \n",
       "1           1             1        39     1331272  english  2021-02-01   \n",
       "2           2             2        39     1331272  english  2021-02-03   \n",
       "3           3             3        39     1331272  english  2021-02-05   \n",
       "4           4             4        39     1331272  english  2021-02-08   \n",
       "\n",
       "              previous_lesson  duration  is_back_to_back_lesson  \\\n",
       "0                         NaN       1.0                       0   \n",
       "1  2021-01-30 08:30:00.000000       1.0                       0   \n",
       "2  2021-02-01 08:00:00.000000       1.0                       0   \n",
       "3  2021-02-03 08:00:00.000000       1.0                       0   \n",
       "4  2021-02-05 08:00:00.000000       1.0                       0   \n",
       "\n",
       "                   created_ts  ...          local_booking_time  \\\n",
       "0  2021-01-28 19:30:42.879612  ...  2021-01-28 21:30:42.879612   \n",
       "1  2021-01-30 09:45:23.384760  ...  2021-01-30 11:45:23.384760   \n",
       "2  2021-02-02 15:49:16.771457  ...  2021-02-02 17:49:16.771457   \n",
       "3  2021-02-03 15:17:45.400003  ...  2021-02-03 17:17:45.400003   \n",
       "4  2021-02-06 10:20:03.397388  ...  2021-02-06 12:20:03.397388   \n",
       "\n",
       "   hour_offset_tutor  hour_offset_student  hour_differences_tutor_student  \\\n",
       "0                  2                  1.0                             1.0   \n",
       "1                  2                  1.0                             1.0   \n",
       "2                  2                  1.0                             1.0   \n",
       "3                  2                  1.0                             1.0   \n",
       "4                  2                  1.0                             1.0   \n",
       "\n",
       "   local_booking_time_date  local_booking_hour num_lessons_per_day  \\\n",
       "0               2021-01-28                  21                   1   \n",
       "1               2021-01-30                  11                   1   \n",
       "2               2021-02-02                  17                   1   \n",
       "3               2021-02-03                  17                   1   \n",
       "4               2021-02-06                  12                   1   \n",
       "\n",
       "  one_lesson_per_day app_usage response_time  \n",
       "0                  1         0           NaN  \n",
       "1                  1         0           NaN  \n",
       "2                  1         0           NaN  \n",
       "3                  1         0           NaN  \n",
       "4                  1         0           NaN  \n",
       "\n",
       "[5 rows x 35 columns]"
      ],
      "text/html": [
       "<div>\n",
       "<style scoped>\n",
       "    .dataframe tbody tr th:only-of-type {\n",
       "        vertical-align: middle;\n",
       "    }\n",
       "\n",
       "    .dataframe tbody tr th {\n",
       "        vertical-align: top;\n",
       "    }\n",
       "\n",
       "    .dataframe thead th {\n",
       "        text-align: right;\n",
       "    }\n",
       "</style>\n",
       "<table border=\"1\" class=\"dataframe\">\n",
       "  <thead>\n",
       "    <tr style=\"text-align: right;\">\n",
       "      <th></th>\n",
       "      <th>Unnamed: 0</th>\n",
       "      <th>Unnamed: 0.1</th>\n",
       "      <th>tutor_id</th>\n",
       "      <th>student_id</th>\n",
       "      <th>subject</th>\n",
       "      <th>lesson_ts</th>\n",
       "      <th>previous_lesson</th>\n",
       "      <th>duration</th>\n",
       "      <th>is_back_to_back_lesson</th>\n",
       "      <th>created_ts</th>\n",
       "      <th>...</th>\n",
       "      <th>local_booking_time</th>\n",
       "      <th>hour_offset_tutor</th>\n",
       "      <th>hour_offset_student</th>\n",
       "      <th>hour_differences_tutor_student</th>\n",
       "      <th>local_booking_time_date</th>\n",
       "      <th>local_booking_hour</th>\n",
       "      <th>num_lessons_per_day</th>\n",
       "      <th>one_lesson_per_day</th>\n",
       "      <th>app_usage</th>\n",
       "      <th>response_time</th>\n",
       "    </tr>\n",
       "  </thead>\n",
       "  <tbody>\n",
       "    <tr>\n",
       "      <th>0</th>\n",
       "      <td>0</td>\n",
       "      <td>0</td>\n",
       "      <td>39</td>\n",
       "      <td>1331272</td>\n",
       "      <td>english</td>\n",
       "      <td>2021-01-30</td>\n",
       "      <td>NaN</td>\n",
       "      <td>1.0</td>\n",
       "      <td>0</td>\n",
       "      <td>2021-01-28 19:30:42.879612</td>\n",
       "      <td>...</td>\n",
       "      <td>2021-01-28 21:30:42.879612</td>\n",
       "      <td>2</td>\n",
       "      <td>1.0</td>\n",
       "      <td>1.0</td>\n",
       "      <td>2021-01-28</td>\n",
       "      <td>21</td>\n",
       "      <td>1</td>\n",
       "      <td>1</td>\n",
       "      <td>0</td>\n",
       "      <td>NaN</td>\n",
       "    </tr>\n",
       "    <tr>\n",
       "      <th>1</th>\n",
       "      <td>1</td>\n",
       "      <td>1</td>\n",
       "      <td>39</td>\n",
       "      <td>1331272</td>\n",
       "      <td>english</td>\n",
       "      <td>2021-02-01</td>\n",
       "      <td>2021-01-30 08:30:00.000000</td>\n",
       "      <td>1.0</td>\n",
       "      <td>0</td>\n",
       "      <td>2021-01-30 09:45:23.384760</td>\n",
       "      <td>...</td>\n",
       "      <td>2021-01-30 11:45:23.384760</td>\n",
       "      <td>2</td>\n",
       "      <td>1.0</td>\n",
       "      <td>1.0</td>\n",
       "      <td>2021-01-30</td>\n",
       "      <td>11</td>\n",
       "      <td>1</td>\n",
       "      <td>1</td>\n",
       "      <td>0</td>\n",
       "      <td>NaN</td>\n",
       "    </tr>\n",
       "    <tr>\n",
       "      <th>2</th>\n",
       "      <td>2</td>\n",
       "      <td>2</td>\n",
       "      <td>39</td>\n",
       "      <td>1331272</td>\n",
       "      <td>english</td>\n",
       "      <td>2021-02-03</td>\n",
       "      <td>2021-02-01 08:00:00.000000</td>\n",
       "      <td>1.0</td>\n",
       "      <td>0</td>\n",
       "      <td>2021-02-02 15:49:16.771457</td>\n",
       "      <td>...</td>\n",
       "      <td>2021-02-02 17:49:16.771457</td>\n",
       "      <td>2</td>\n",
       "      <td>1.0</td>\n",
       "      <td>1.0</td>\n",
       "      <td>2021-02-02</td>\n",
       "      <td>17</td>\n",
       "      <td>1</td>\n",
       "      <td>1</td>\n",
       "      <td>0</td>\n",
       "      <td>NaN</td>\n",
       "    </tr>\n",
       "    <tr>\n",
       "      <th>3</th>\n",
       "      <td>3</td>\n",
       "      <td>3</td>\n",
       "      <td>39</td>\n",
       "      <td>1331272</td>\n",
       "      <td>english</td>\n",
       "      <td>2021-02-05</td>\n",
       "      <td>2021-02-03 08:00:00.000000</td>\n",
       "      <td>1.0</td>\n",
       "      <td>0</td>\n",
       "      <td>2021-02-03 15:17:45.400003</td>\n",
       "      <td>...</td>\n",
       "      <td>2021-02-03 17:17:45.400003</td>\n",
       "      <td>2</td>\n",
       "      <td>1.0</td>\n",
       "      <td>1.0</td>\n",
       "      <td>2021-02-03</td>\n",
       "      <td>17</td>\n",
       "      <td>1</td>\n",
       "      <td>1</td>\n",
       "      <td>0</td>\n",
       "      <td>NaN</td>\n",
       "    </tr>\n",
       "    <tr>\n",
       "      <th>4</th>\n",
       "      <td>4</td>\n",
       "      <td>4</td>\n",
       "      <td>39</td>\n",
       "      <td>1331272</td>\n",
       "      <td>english</td>\n",
       "      <td>2021-02-08</td>\n",
       "      <td>2021-02-05 08:00:00.000000</td>\n",
       "      <td>1.0</td>\n",
       "      <td>0</td>\n",
       "      <td>2021-02-06 10:20:03.397388</td>\n",
       "      <td>...</td>\n",
       "      <td>2021-02-06 12:20:03.397388</td>\n",
       "      <td>2</td>\n",
       "      <td>1.0</td>\n",
       "      <td>1.0</td>\n",
       "      <td>2021-02-06</td>\n",
       "      <td>12</td>\n",
       "      <td>1</td>\n",
       "      <td>1</td>\n",
       "      <td>0</td>\n",
       "      <td>NaN</td>\n",
       "    </tr>\n",
       "  </tbody>\n",
       "</table>\n",
       "<p>5 rows × 35 columns</p>\n",
       "</div>"
      ]
     },
     "metadata": {},
     "execution_count": 236
    }
   ],
   "metadata": {}
  },
  {
   "cell_type": "code",
   "execution_count": 240,
   "source": [
    "# Get the explanatory variables\n",
    "\n",
    "data_predict = data_predict[['tutor_id', 'is_back_to_back_lesson', 'booking_window', 'first_lesson', 'days_since_last_seen', 'local_lesson_hour', 'num_twa_last_30d', 'trial_lesson', 'hour_differences_tutor_student', 'local_booking_hour',\n",
    "'one_lesson_per_day', 'app_usage', 'response_time']]\n"
   ],
   "outputs": [],
   "metadata": {}
  },
  {
   "cell_type": "code",
   "execution_count": 238,
   "source": [
    "# Take the mean for each tutor of all the explanatory variables in order to predict at the tutor level:\n",
    "\n",
    "data_predict = data_predict.groupby('tutor_id').mean()"
   ],
   "outputs": [],
   "metadata": {}
  },
  {
   "cell_type": "code",
   "execution_count": 239,
   "source": [
    "data_predict.reset_index(inplace=True)"
   ],
   "outputs": [],
   "metadata": {}
  },
  {
   "cell_type": "markdown",
   "source": [
    "## Creation of the evaluation DataSet\n",
    "\n",
    "- This is the dataset that will be used to evaluate the backtest. It contains the last 2 months of data.\n",
    "- In this case we only want to know if the tutor ha done a TWA in the last 2 months.\n",
    "- We will compare the output of the Predicting model (will say if a tutor is predicted as potential TWA or not) with the evaulation dataset in orde if they actually did a TWA or not."
   ],
   "metadata": {}
  },
  {
   "cell_type": "code",
   "execution_count": 241,
   "source": [
    "data_evaluate = data[data['lesson_ts']>=datetime.date(2021,5,28)]"
   ],
   "outputs": [],
   "metadata": {}
  },
  {
   "cell_type": "code",
   "execution_count": 242,
   "source": [
    "# Has the tutor done a TWA in the last 2 months?\n",
    "\n",
    "data_evaluate = data_evaluate[['tutor_id', 'twa_flag']].groupby('tutor_id').max().reset_index()"
   ],
   "outputs": [],
   "metadata": {}
  },
  {
   "cell_type": "markdown",
   "source": [
    "# Data Exploration"
   ],
   "metadata": {}
  },
  {
   "cell_type": "markdown",
   "source": [
    "## General info"
   ],
   "metadata": {}
  },
  {
   "cell_type": "code",
   "execution_count": 244,
   "source": [
    "# Get info on null values\n",
    "\n",
    "data.info(memory_usage = False, show_counts = True)"
   ],
   "outputs": [
    {
     "output_type": "stream",
     "name": "stdout",
     "text": [
      "<class 'pandas.core.frame.DataFrame'>\n",
      "RangeIndex: 3964790 entries, 0 to 3964789\n",
      "Data columns (total 35 columns):\n",
      " #   Column                              Non-Null Count    Dtype  \n",
      "---  ------                              --------------    -----  \n",
      " 0   Unnamed: 0                          3964790 non-null  int64  \n",
      " 1   Unnamed: 0.1                        3964790 non-null  int64  \n",
      " 2   tutor_id                            3964790 non-null  int64  \n",
      " 3   student_id                          3964790 non-null  int64  \n",
      " 4   subject                             3964790 non-null  object \n",
      " 5   lesson_ts                           3964790 non-null  object \n",
      " 6   previous_lesson                     3927273 non-null  object \n",
      " 7   duration                            3964790 non-null  float64\n",
      " 8   is_back_to_back_lesson              3964790 non-null  int64  \n",
      " 9   created_ts                          3964790 non-null  object \n",
      " 10  booking_window                      3964790 non-null  int64  \n",
      " 11  lesson_id                           3964790 non-null  int64  \n",
      " 12  tutor_lesson_order                  3964790 non-null  int64  \n",
      " 13  first_lesson                        3964790 non-null  int64  \n",
      " 14  twa_flag                            3964790 non-null  int64  \n",
      " 15  trial_lesson                        3964790 non-null  int64  \n",
      " 16  performance_segment                 3964790 non-null  object \n",
      " 17  activity_segment_per_tutor_subject  3964790 non-null  object \n",
      " 18  country_of_birth                    3962942 non-null  object \n",
      " 19  date_first_approved                 3945959 non-null  object \n",
      " 20  num_twa_last_30d                    3964790 non-null  int64  \n",
      " 21  days_since_last_seen                3713348 non-null  float64\n",
      " 22  local_lesson_ts                     3964790 non-null  object \n",
      " 23  local_lesson_ts_date                3964790 non-null  object \n",
      " 24  local_lesson_hour                   3964790 non-null  int64  \n",
      " 25  local_booking_time                  3964790 non-null  object \n",
      " 26  hour_offset_tutor                   3964790 non-null  int64  \n",
      " 27  hour_offset_student                 3964602 non-null  float64\n",
      " 28  hour_differences_tutor_student      3964602 non-null  float64\n",
      " 29  local_booking_time_date             3964790 non-null  object \n",
      " 30  local_booking_hour                  3964790 non-null  int64  \n",
      " 31  num_lessons_per_day                 3964790 non-null  int64  \n",
      " 32  one_lesson_per_day                  3964790 non-null  int64  \n",
      " 33  app_usage                           3964790 non-null  int64  \n",
      " 34  response_time                       2967404 non-null  float64\n",
      "dtypes: float64(5), int64(18), object(12)"
     ]
    }
   ],
   "metadata": {}
  },
  {
   "cell_type": "markdown",
   "source": [
    "# Exploring the target variable (TWA)"
   ],
   "metadata": {}
  },
  {
   "cell_type": "markdown",
   "source": [
    "## TWA Rate "
   ],
   "metadata": {}
  },
  {
   "cell_type": "code",
   "execution_count": 41,
   "source": [
    "print(f'The TWA rate of all the lessons is {round(100*(data[\"twa_flag\"].value_counts()[1] / data[\"twa_flag\"].value_counts()[0]),2)}%')\n",
    "print(f'The TWA rate of trial lessons is {round(100*(data[data[\"trial_lesson\"]==1][\"is_twa\"].value_counts()[1] / data[data[\"trial_lesson\"]==1][\"is_twa\"].value_counts()[0]),2)}%') \n",
    "print(f'The TWA rate of non trial lessons is {round(100*(data[data[\"trial_lesson\"]==0][\"is_twa\"].value_counts()[1] / data[data[\"trial_lesson\"]==0][\"is_twa\"].value_counts()[0]),2)}%')"
   ],
   "outputs": [
    {
     "output_type": "stream",
     "name": "stdout",
     "text": [
      "The TWA rate of all the lessons is 0.86%\n",
      "The TWA rate of trial lessons is 3.71%\n",
      "The TWA rate of non trial lessons is 0.61%\n"
     ]
    }
   ],
   "metadata": {}
  },
  {
   "cell_type": "markdown",
   "source": [
    "## Dealing with null values"
   ],
   "metadata": {}
  },
  {
   "cell_type": "markdown",
   "source": [
    "### Drop all rows that have a null value\n",
    "\n",
    "- This seems to be the most conservative apporach since response time has a lot of null values and it is also a very important variable in terms of feature importance\n",
    "    - I would rather not \"make up\" values for this variables"
   ],
   "metadata": {}
  },
  {
   "cell_type": "code",
   "execution_count": 251,
   "source": [
    "# Drop all rows that have any null value\n",
    "data[\"is_twa\"] = data[\"twa_flag\"]\n",
    "data_new = data.dropna()"
   ],
   "outputs": [],
   "metadata": {}
  },
  {
   "cell_type": "code",
   "execution_count": 43,
   "source": [
    "# Having dropped all null values, the TWA rate for trial lessons decreases quite a lot.\n",
    "\n",
    "print(f'The TWA rate of all the lessons is {round(100*(data_new[\"twa_flag\"].value_counts()[1] / data_new[\"twa_flag\"].value_counts()[0]),2)}%')\n",
    "print(f'The TWA rate of trial lessons is {round(100*(data_new[data_new[\"trial_lesson\"]==1][\"is_twa\"].value_counts()[1] / data_new[data_new[\"trial_lesson\"]==1][\"is_twa\"].value_counts()[0]),2)}%') \n",
    "print(f'The TWA rate of non trial lessons is {round(100*(data_new[data_new[\"trial_lesson\"]==0][\"is_twa\"].value_counts()[1] / data_new[data_new[\"trial_lesson\"]==0][\"is_twa\"].value_counts()[0]),2)}%')"
   ],
   "outputs": [
    {
     "output_type": "stream",
     "name": "stdout",
     "text": [
      "The TWA rate of all the lessons is 0.83%\n",
      "The TWA rate of trial lessons is 3.19%\n",
      "The TWA rate of non trial lessons is 0.63%\n"
     ]
    }
   ],
   "metadata": {}
  },
  {
   "cell_type": "markdown",
   "source": [
    "# Definition of X and y"
   ],
   "metadata": {}
  },
  {
   "cell_type": "code",
   "execution_count": 252,
   "source": [
    "X = data_new[['is_back_to_back_lesson', 'booking_window',\n",
    "         'first_lesson',\n",
    "       'days_since_last_seen',\n",
    "       'local_lesson_hour',\n",
    "      'num_twa_last_30d',\n",
    "      'trial_lesson',\n",
    "       'hour_differences_tutor_student',\n",
    "       'local_booking_hour',\n",
    "       'one_lesson_per_day', 'app_usage', 'response_time']]\n",
    "       \n",
    "y = data_new[['is_twa']]\n"
   ],
   "outputs": [],
   "metadata": {}
  },
  {
   "cell_type": "markdown",
   "source": [
    "# Training model\n",
    "\n",
    "- First iteration"
   ],
   "metadata": {}
  },
  {
   "cell_type": "code",
   "execution_count": 253,
   "source": [
    "# Model:\n",
    "\n",
    "seed = 7\n",
    "test_size = 0.33\n",
    "X_train, X_test, y_train, y_test = train_test_split(X, Y, test_size=test_size, random_state=seed)\n",
    "model = XGBClassifier(eval_metric = 'auc')\n",
    "eval_set  = [( X_train, y_train), ( X_test, y_test)]\n",
    "model.fit(X_train, y_train,eval_set=eval_set,early_stopping_rounds=10)\n",
    "\n",
    "import pickle\n",
    "file_name = \"twa_20210514.pkl\"\n",
    "# save\n",
    "pickle.dump(model, open(file_name, \"wb\"))\n",
    "\n",
    "y_pred = model.predict(X_test)"
   ],
   "outputs": [
    {
     "output_type": "stream",
     "name": "stderr",
     "text": [
      "/Users/miqui/opt/anaconda3/envs/proyecto_final/lib/python3.8/site-packages/xgboost/sklearn.py:888: UserWarning: The use of label encoder in XGBClassifier is deprecated and will be removed in a future release. To remove this warning, do the following: 1) Pass option use_label_encoder=False when constructing XGBClassifier object; and 2) Encode your labels (y) as integers starting with 0, i.e. 0, 1, 2, ..., [num_class - 1].\n",
      "  warnings.warn(label_encoder_deprecation_msg, UserWarning)\n",
      "/Users/miqui/opt/anaconda3/envs/proyecto_final/lib/python3.8/site-packages/sklearn/utils/validation.py:63: DataConversionWarning: A column-vector y was passed when a 1d array was expected. Please change the shape of y to (n_samples, ), for example using ravel().\n",
      "  return f(*args, **kwargs)\n"
     ]
    },
    {
     "output_type": "stream",
     "name": "stdout",
     "text": [
      "[0]\tvalidation_0-auc:0.82090\tvalidation_1-auc:0.82136\n",
      "[1]\tvalidation_0-auc:0.82494\tvalidation_1-auc:0.82567\n",
      "[2]\tvalidation_0-auc:0.82635\tvalidation_1-auc:0.82722\n",
      "[3]\tvalidation_0-auc:0.82642\tvalidation_1-auc:0.82766\n",
      "[4]\tvalidation_0-auc:0.82681\tvalidation_1-auc:0.82763\n",
      "[5]\tvalidation_0-auc:0.82811\tvalidation_1-auc:0.82953\n",
      "[6]\tvalidation_0-auc:0.83010\tvalidation_1-auc:0.83128\n",
      "[7]\tvalidation_0-auc:0.83093\tvalidation_1-auc:0.83163\n",
      "[8]\tvalidation_0-auc:0.83216\tvalidation_1-auc:0.83296\n",
      "[9]\tvalidation_0-auc:0.83550\tvalidation_1-auc:0.83545\n",
      "[10]\tvalidation_0-auc:0.83705\tvalidation_1-auc:0.83667\n",
      "[11]\tvalidation_0-auc:0.83782\tvalidation_1-auc:0.83741\n",
      "[12]\tvalidation_0-auc:0.83917\tvalidation_1-auc:0.83856\n",
      "[13]\tvalidation_0-auc:0.83980\tvalidation_1-auc:0.83894\n",
      "[14]\tvalidation_0-auc:0.84125\tvalidation_1-auc:0.84003\n",
      "[15]\tvalidation_0-auc:0.84166\tvalidation_1-auc:0.84023\n",
      "[16]\tvalidation_0-auc:0.84284\tvalidation_1-auc:0.84064\n",
      "[17]\tvalidation_0-auc:0.84471\tvalidation_1-auc:0.84203\n",
      "[18]\tvalidation_0-auc:0.84557\tvalidation_1-auc:0.84264\n",
      "[19]\tvalidation_0-auc:0.84639\tvalidation_1-auc:0.84323\n",
      "[20]\tvalidation_0-auc:0.84752\tvalidation_1-auc:0.84382\n",
      "[21]\tvalidation_0-auc:0.84859\tvalidation_1-auc:0.84438\n",
      "[22]\tvalidation_0-auc:0.84929\tvalidation_1-auc:0.84467\n",
      "[23]\tvalidation_0-auc:0.85028\tvalidation_1-auc:0.84499\n",
      "[24]\tvalidation_0-auc:0.85107\tvalidation_1-auc:0.84541\n",
      "[25]\tvalidation_0-auc:0.85152\tvalidation_1-auc:0.84546\n",
      "[26]\tvalidation_0-auc:0.85223\tvalidation_1-auc:0.84554\n",
      "[27]\tvalidation_0-auc:0.85278\tvalidation_1-auc:0.84566\n",
      "[28]\tvalidation_0-auc:0.85299\tvalidation_1-auc:0.84575\n",
      "[29]\tvalidation_0-auc:0.85347\tvalidation_1-auc:0.84605\n",
      "[30]\tvalidation_0-auc:0.85414\tvalidation_1-auc:0.84602\n",
      "[31]\tvalidation_0-auc:0.85472\tvalidation_1-auc:0.84608\n",
      "[32]\tvalidation_0-auc:0.85505\tvalidation_1-auc:0.84613\n",
      "[33]\tvalidation_0-auc:0.85541\tvalidation_1-auc:0.84608\n",
      "[34]\tvalidation_0-auc:0.85571\tvalidation_1-auc:0.84612\n",
      "[35]\tvalidation_0-auc:0.85603\tvalidation_1-auc:0.84624\n",
      "[36]\tvalidation_0-auc:0.85609\tvalidation_1-auc:0.84628\n",
      "[37]\tvalidation_0-auc:0.85658\tvalidation_1-auc:0.84637\n",
      "[38]\tvalidation_0-auc:0.85720\tvalidation_1-auc:0.84650\n",
      "[39]\tvalidation_0-auc:0.85727\tvalidation_1-auc:0.84649\n",
      "[40]\tvalidation_0-auc:0.85729\tvalidation_1-auc:0.84647\n",
      "[41]\tvalidation_0-auc:0.85741\tvalidation_1-auc:0.84654\n",
      "[42]\tvalidation_0-auc:0.85762\tvalidation_1-auc:0.84654\n",
      "[43]\tvalidation_0-auc:0.85764\tvalidation_1-auc:0.84655\n",
      "[44]\tvalidation_0-auc:0.85785\tvalidation_1-auc:0.84659\n",
      "[45]\tvalidation_0-auc:0.85789\tvalidation_1-auc:0.84660\n",
      "[46]\tvalidation_0-auc:0.85792\tvalidation_1-auc:0.84659\n",
      "[47]\tvalidation_0-auc:0.85843\tvalidation_1-auc:0.84674\n",
      "[48]\tvalidation_0-auc:0.85844\tvalidation_1-auc:0.84675\n",
      "[49]\tvalidation_0-auc:0.85871\tvalidation_1-auc:0.84687\n",
      "[50]\tvalidation_0-auc:0.85880\tvalidation_1-auc:0.84696\n",
      "[51]\tvalidation_0-auc:0.85913\tvalidation_1-auc:0.84694\n",
      "[52]\tvalidation_0-auc:0.85966\tvalidation_1-auc:0.84689\n",
      "[53]\tvalidation_0-auc:0.86003\tvalidation_1-auc:0.84687\n",
      "[54]\tvalidation_0-auc:0.86054\tvalidation_1-auc:0.84678\n",
      "[55]\tvalidation_0-auc:0.86082\tvalidation_1-auc:0.84675\n",
      "[56]\tvalidation_0-auc:0.86124\tvalidation_1-auc:0.84674\n",
      "[57]\tvalidation_0-auc:0.86150\tvalidation_1-auc:0.84674\n",
      "[58]\tvalidation_0-auc:0.86154\tvalidation_1-auc:0.84675\n",
      "[59]\tvalidation_0-auc:0.86160\tvalidation_1-auc:0.84676\n"
     ]
    }
   ],
   "metadata": {}
  },
  {
   "cell_type": "markdown",
   "source": [
    "## Feature importance"
   ],
   "metadata": {}
  },
  {
   "cell_type": "code",
   "execution_count": 254,
   "source": [
    "# See the importance of each variable in the model\n",
    "\n",
    "plot_importance(model)"
   ],
   "outputs": [
    {
     "output_type": "execute_result",
     "data": {
      "text/plain": [
       "<AxesSubplot:title={'center':'Feature importance'}, xlabel='F score', ylabel='Features'>"
      ]
     },
     "metadata": {},
     "execution_count": 254
    },
    {
     "output_type": "display_data",
     "data": {
      "text/plain": [
       "<Figure size 432x288 with 1 Axes>"
      ],
      "image/png": "[encoded data removed]"
     },
     "metadata": {
      "needs_background": "light"
     }
    }
   ],
   "metadata": {}
  },
  {
   "cell_type": "markdown",
   "source": [
    "## Confusion Matrix\n",
    "\n",
    "- Get the recall of the model in order to see how many of the TWA lessons was the model able to identify"
   ],
   "metadata": {}
  },
  {
   "cell_type": "code",
   "execution_count": 256,
   "source": [
    "# Super low recall. The model is not able to identify many ones in the dataset. This is probably due to the fact that the target variable is very undersampled\n",
    "\n",
    "cm = confusion_matrix(y_test, y_pred)\n",
    "recall = cm[1,1]/(cm[1,1] + cm[1,0])\n",
    "recall"
   ],
   "outputs": [
    {
     "output_type": "execute_result",
     "data": {
      "text/plain": [
       "0.025137568784392196"
      ]
     },
     "metadata": {},
     "execution_count": 256
    }
   ],
   "metadata": {}
  },
  {
   "cell_type": "markdown",
   "source": [
    "## Dealing with undersampled target variable"
   ],
   "metadata": {}
  },
  {
   "cell_type": "code",
   "execution_count": 263,
   "source": [
    "print(f'The proportion of ones in the target variable is: {round(100*y.value_counts()[1] / (y.value_counts()[1]+ y.value_counts()[0]),2)}%')"
   ],
   "outputs": [
    {
     "output_type": "stream",
     "name": "stdout",
     "text": [
      "The proportion of ones in the target variable is: 0.82%\n"
     ]
    }
   ],
   "metadata": {}
  },
  {
   "cell_type": "markdown",
   "source": [
    "## Smoteen oversampling\n",
    "\n",
    "- This method will add ones to the target variable based on the KNN method. Basically, it will add ones to those rows that are currently zeroes but are similar to the rows that have ones"
   ],
   "metadata": {}
  },
  {
   "cell_type": "code",
   "execution_count": 88,
   "source": [
    "X_train, X_test, y_train, y_test = train_test_split(X, Y, test_size=test_size, random_state=seed)\n",
    "y_train.value_counts()"
   ],
   "outputs": [
    {
     "output_type": "execute_result",
     "data": {
      "text/plain": [
       "is_twa\n",
       "0         1951443\n",
       "1           16208\n",
       "dtype: int64"
      ]
     },
     "metadata": {},
     "execution_count": 88
    }
   ],
   "metadata": {}
  },
  {
   "cell_type": "code",
   "execution_count": 264,
   "source": [
    "# Create a Pipeline with the SMOTEEN oversampling method\n",
    "\n",
    "over = [('over', SMOTEENN())]\n",
    "pipe = Pipeline(steps =over)\n",
    "X_train_new,y_train_new = pipe.fit_resample(X_train,y_train)"
   ],
   "outputs": [],
   "metadata": {}
  },
  {
   "cell_type": "code",
   "execution_count": 266,
   "source": [
    "# Now we get a much more balanced target variable\n",
    "\n",
    "print(f'The proportion of ones in the target variable is: {round(100*y_train_new.value_counts()[1] / (y_train_new.value_counts()[1]+ y_train_new.value_counts()[0]),2)}%')"
   ],
   "outputs": [
    {
     "output_type": "stream",
     "name": "stdout",
     "text": [
      "The proportion of ones in the target variable is: 52.1%\n"
     ]
    }
   ],
   "metadata": {}
  },
  {
   "cell_type": "code",
   "execution_count": 329,
   "source": [
    "print(\"Best: %f using %s\" % (grid_result.best_score_, grid_result.best_params_))"
   ],
   "outputs": [
    {
     "output_type": "stream",
     "name": "stdout",
     "text": [
      "Best: -0.038664 using {'learning_rate': 0.2}\n"
     ]
    }
   ],
   "metadata": {}
  },
  {
   "cell_type": "code",
   "execution_count": 271,
   "source": [
    "# Model:\n",
    "\n",
    "seed = 7\n",
    "test_size = 0.33\n",
    "model = XGBClassifier(max_depth=5,\n",
    "                           min_child_weight=9,\n",
    "                           learning_rate=0.05,\n",
    "                           n_estimators=80,\n",
    "                           objective='binary:logistic',\n",
    "                           eval_metric = 'auc',\n",
    "                           gamma=0,\n",
    "                           max_delta_step=0,\n",
    "                           subsample=0.8,\n",
    "                           colsample_bytree=0.86,\n",
    "                           colsample_bylevel=0.67,\n",
    "                           reg_alpha=0,\n",
    "                           reg_lambda=2.8,\n",
    "                           scale_pos_weight=1,\n",
    "                           seed=1)\n",
    "eval_set  = [( X_train_new, y_train_new), ( X_test, y_test)]\n",
    "model.fit(X_train_new, y_train_new,eval_set=eval_set,early_stopping_rounds=10)\n",
    "\n",
    "import pickle\n",
    "file_name = \"twa_20210514.pkl\"\n",
    "# save\n",
    "pickle.dump(model, open(file_name, \"wb\"))\n",
    "\n",
    "y_pred = model.predict_proba(X_test)"
   ],
   "outputs": [
    {
     "output_type": "stream",
     "name": "stderr",
     "text": [
      "/Users/miqui/opt/anaconda3/envs/proyecto_final/lib/python3.8/site-packages/xgboost/sklearn.py:888: UserWarning: The use of label encoder in XGBClassifier is deprecated and will be removed in a future release. To remove this warning, do the following: 1) Pass option use_label_encoder=False when constructing XGBClassifier object; and 2) Encode your labels (y) as integers starting with 0, i.e. 0, 1, 2, ..., [num_class - 1].\n",
      "  warnings.warn(label_encoder_deprecation_msg, UserWarning)\n",
      "/Users/miqui/opt/anaconda3/envs/proyecto_final/lib/python3.8/site-packages/sklearn/utils/validation.py:63: DataConversionWarning: A column-vector y was passed when a 1d array was expected. Please change the shape of y to (n_samples, ), for example using ravel().\n",
      "  return f(*args, **kwargs)\n"
     ]
    },
    {
     "output_type": "stream",
     "name": "stdout",
     "text": [
      "[0]\tvalidation_0-auc:0.84722\tvalidation_1-auc:0.72270\n",
      "[1]\tvalidation_0-auc:0.91763\tvalidation_1-auc:0.72886\n",
      "[2]\tvalidation_0-auc:0.92725\tvalidation_1-auc:0.73904\n",
      "[3]\tvalidation_0-auc:0.92588\tvalidation_1-auc:0.74676\n",
      "[4]\tvalidation_0-auc:0.92307\tvalidation_1-auc:0.75440\n",
      "[5]\tvalidation_0-auc:0.93103\tvalidation_1-auc:0.75603\n",
      "[6]\tvalidation_0-auc:0.93369\tvalidation_1-auc:0.75446\n",
      "[7]\tvalidation_0-auc:0.93658\tvalidation_1-auc:0.75399\n",
      "[8]\tvalidation_0-auc:0.93850\tvalidation_1-auc:0.76560\n",
      "[9]\tvalidation_0-auc:0.93902\tvalidation_1-auc:0.76133\n",
      "[10]\tvalidation_0-auc:0.93910\tvalidation_1-auc:0.76272\n",
      "[11]\tvalidation_0-auc:0.93829\tvalidation_1-auc:0.76264\n",
      "[12]\tvalidation_0-auc:0.93845\tvalidation_1-auc:0.76213\n",
      "[13]\tvalidation_0-auc:0.94269\tvalidation_1-auc:0.76269\n",
      "[14]\tvalidation_0-auc:0.94277\tvalidation_1-auc:0.76458\n",
      "[15]\tvalidation_0-auc:0.94252\tvalidation_1-auc:0.76137\n",
      "[16]\tvalidation_0-auc:0.94192\tvalidation_1-auc:0.75988\n",
      "[17]\tvalidation_0-auc:0.94177\tvalidation_1-auc:0.76033\n",
      "[18]\tvalidation_0-auc:0.94175\tvalidation_1-auc:0.76285\n"
     ]
    }
   ],
   "metadata": {}
  },
  {
   "cell_type": "code",
   "execution_count": 300,
   "source": [
    "y_pred = model.predict_proba(X_test)"
   ],
   "outputs": [],
   "metadata": {}
  },
  {
   "cell_type": "code",
   "execution_count": 272,
   "source": [
    "# Feature imoortance of the variables in the model\n",
    "\n",
    "plot_importance(model)"
   ],
   "outputs": [
    {
     "output_type": "execute_result",
     "data": {
      "text/plain": [
       "<AxesSubplot:title={'center':'Feature importance'}, xlabel='F score', ylabel='Features'>"
      ]
     },
     "metadata": {},
     "execution_count": 272
    },
    {
     "output_type": "display_data",
     "data": {
      "text/plain": [
       "<Figure size 432x288 with 1 Axes>"
      ],
      "image/png": "[encoded data removed]"
     },
     "metadata": {
      "needs_background": "light"
     }
    }
   ],
   "metadata": {}
  },
  {
   "cell_type": "code",
   "execution_count": 1,
   "source": [
    "# Check the Confussion matrix of the model\n",
    "\n",
    "cm = confusion_matrix(y_test, y_pred)\n",
    "recall = cm[1,1]/(cm[1,1] + cm[1,0])\n",
    "\n",
    "cm"
   ],
   "outputs": [
    {
     "output_type": "error",
     "ename": "NameError",
     "evalue": "name 'confusion_matrix' is not defined",
     "traceback": [
      "\u001b[0;31m---------------------------------------------------------------------------\u001b[0m",
      "\u001b[0;31mNameError\u001b[0m                                 Traceback (most recent call last)",
      "\u001b[0;32m<ipython-input-1-ba38fa816590>\u001b[0m in \u001b[0;36m<module>\u001b[0;34m\u001b[0m\n\u001b[0;32m----> 1\u001b[0;31m \u001b[0mcm\u001b[0m \u001b[0;34m=\u001b[0m \u001b[0mconfusion_matrix\u001b[0m\u001b[0;34m(\u001b[0m\u001b[0my_test\u001b[0m\u001b[0;34m,\u001b[0m \u001b[0my_pred\u001b[0m\u001b[0;34m)\u001b[0m\u001b[0;34m\u001b[0m\u001b[0;34m\u001b[0m\u001b[0m\n\u001b[0m\u001b[1;32m      2\u001b[0m \u001b[0mrecall\u001b[0m \u001b[0;34m=\u001b[0m \u001b[0mcm\u001b[0m\u001b[0;34m[\u001b[0m\u001b[0;36m1\u001b[0m\u001b[0;34m,\u001b[0m\u001b[0;36m1\u001b[0m\u001b[0;34m]\u001b[0m\u001b[0;34m/\u001b[0m\u001b[0;34m(\u001b[0m\u001b[0mcm\u001b[0m\u001b[0;34m[\u001b[0m\u001b[0;36m1\u001b[0m\u001b[0;34m,\u001b[0m\u001b[0;36m1\u001b[0m\u001b[0;34m]\u001b[0m \u001b[0;34m+\u001b[0m \u001b[0mcm\u001b[0m\u001b[0;34m[\u001b[0m\u001b[0;36m1\u001b[0m\u001b[0;34m,\u001b[0m\u001b[0;36m0\u001b[0m\u001b[0;34m]\u001b[0m\u001b[0;34m)\u001b[0m\u001b[0;34m\u001b[0m\u001b[0;34m\u001b[0m\u001b[0m\n\u001b[1;32m      3\u001b[0m \u001b[0mrecall\u001b[0m\u001b[0;34m\u001b[0m\u001b[0;34m\u001b[0m\u001b[0m\n",
      "\u001b[0;31mNameError\u001b[0m: name 'confusion_matrix' is not defined"
     ]
    }
   ],
   "metadata": {}
  },
  {
   "cell_type": "code",
   "execution_count": 277,
   "source": [
    "# Check out the classification report of the model\n",
    "\n",
    "# We are able to identify more than half of the lessons that were TWA. We only identify 12% of classes as False Positives. As a company, we are more concerned with getting \n",
    "# as much true positives as possible and only 12% of False Negatives is not something to worry about.\n",
    "# It is better to flag more classes as potential TWA even if it means getting some of them that will not do TWA\n",
    "\n",
    "\n",
    "print(classification_report(y_test, y_pred))"
   ],
   "outputs": [
    {
     "output_type": "stream",
     "name": "stdout",
     "text": [
      "              precision    recall  f1-score   support\n",
      "\n",
      "           0       1.00      0.88      0.93    961146\n",
      "           1       0.03      0.50      0.06      7996\n",
      "\n",
      "    accuracy                           0.87    969142\n",
      "   macro avg       0.51      0.69      0.50    969142\n",
      "weighted avg       0.99      0.87      0.92    969142\n",
      "\n"
     ]
    }
   ],
   "metadata": {}
  },
  {
   "cell_type": "markdown",
   "source": [
    "# Predicting Code\n",
    "\n",
    "- Predict at the tutor level\n",
    "- We want to do a Backtest in order to see if those tutor who we predict as Potential TWA 2 months ago, actually did a TWA in the 2 months after that"
   ],
   "metadata": {}
  },
  {
   "cell_type": "code",
   "execution_count": 292,
   "source": [
    "# Predicting code:\n",
    "\n",
    "file = open(\"twa_20210514.pkl\",'rb')\n",
    "twa_model = pickle.load(file)\n",
    "file.close()\n",
    "\n",
    "\n",
    "data_predict['twa_prob'] = twa_model.predict_proba(data_predict[twa_model.get_booster().feature_names])[:,1]\n",
    "data_predict['is_bad_twa_pred'] = 1*(data_predict['twa_prob']>=0.6)\n",
    "data_predict_final = data_predict[['tutor_id', 'twa_prob', 'is_bad_twa_pred']]\n"
   ],
   "outputs": [],
   "metadata": {}
  },
  {
   "cell_type": "markdown",
   "source": [
    "# Check results"
   ],
   "metadata": {}
  },
  {
   "cell_type": "code",
   "execution_count": 293,
   "source": [
    "# This is the threshold we will be using\n",
    "\n",
    "np.mean(data_check['twa_prob'])"
   ],
   "outputs": [
    {
     "output_type": "execute_result",
     "data": {
      "text/plain": [
       "0.600741446018219"
      ]
     },
     "metadata": {},
     "execution_count": 293
    }
   ],
   "metadata": {}
  },
  {
   "cell_type": "code",
   "execution_count": 294,
   "source": [
    "data_check = pd.merge(data_predict_final, data_evaluate, on = 'tutor_id')"
   ],
   "outputs": [],
   "metadata": {}
  },
  {
   "cell_type": "code",
   "execution_count": 295,
   "source": [
    "\n",
    "\n",
    "data_check['check'] = np.where(data_check['is_bad_twa_pred'] == data_check['twa_flag'], 'true', 'false')"
   ],
   "outputs": [],
   "metadata": {}
  },
  {
   "cell_type": "code",
   "execution_count": 296,
   "source": [
    "data_check['is_bad_twa_pred'].value_counts()"
   ],
   "outputs": [
    {
     "output_type": "execute_result",
     "data": {
      "text/plain": [
       "1    12759\n",
       "0     9050\n",
       "Name: is_bad_twa_pred, dtype: int64"
      ]
     },
     "metadata": {},
     "execution_count": 296
    }
   ],
   "metadata": {}
  },
  {
   "cell_type": "code",
   "execution_count": 297,
   "source": [
    "data_check.to_csv('to_sql091.csv')"
   ],
   "outputs": [],
   "metadata": {}
  },
  {
   "cell_type": "code",
   "execution_count": 298,
   "source": [
    "data['is_twa'].value_counts()"
   ],
   "outputs": [
    {
     "output_type": "execute_result",
     "data": {
      "text/plain": [
       "0    3930790\n",
       "1      34000\n",
       "Name: is_twa, dtype: int64"
      ]
     },
     "metadata": {},
     "execution_count": 298
    }
   ],
   "metadata": {}
  },
  {
   "cell_type": "code",
   "execution_count": 299,
   "source": [
    "# Check what's the % of tutors that we got right:\n",
    "\n",
    "data_check[data_check['twa_flag']==1]['check'].value_counts()[1]"
   ],
   "outputs": [
    {
     "output_type": "execute_result",
     "data": {
      "text/plain": [
       "true     3419\n",
       "false    1280\n",
       "Name: check, dtype: int64"
      ]
     },
     "metadata": {},
     "execution_count": 299
    }
   ],
   "metadata": {}
  }
 ]
}