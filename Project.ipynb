{
 "metadata": {
  "language_info": {
   "codemirror_mode": {
    "name": "ipython",
    "version": 3
   },
   "file_extension": ".py",
   "mimetype": "text/x-python",
   "name": "python",
   "nbconvert_exporter": "python",
   "pygments_lexer": "ipython3",
   "version": "3.8.10"
  },
  "orig_nbformat": 2,
  "kernelspec": {
   "name": "python3",
   "display_name": "Python 3.8.10 64-bit ('proyecto_final': conda)"
  },
  "metadata": {
   "interpreter": {
    "hash": "3f17f766c853c4739516ea22dbe3815722d309d310fbe27c0b5d40118defcd55"
   }
  },
  "interpreter": {
   "hash": "82d79d11d6f3e4b03aa598145dd31a38e9edc0989fbd79ea8eea2d57b3972f83"
  }
 },
 "nbformat": 4,
 "nbformat_minor": 2,
 "cells": [
  {
   "cell_type": "code",
   "execution_count": 9,
   "metadata": {},
   "outputs": [],
   "source": [
    "import pandas as pd\n",
    "import numpy as np\n",
    "import xgboost as xgb\n",
    "import psycopg2\n",
    "import pickle\n",
    "from sklearn import preprocessing\n",
    "import credentials"
   ]
  },
  {
   "cell_type": "code",
   "execution_count": 17,
   "metadata": {},
   "outputs": [],
   "source": [
    "con=psycopg2.connect(dbname= credentials.dbname, host=credentials.host, \n",
    "port= credentials.port, user= credentials.user, password= credentials.password)"
   ]
  },
  {
   "cell_type": "code",
   "execution_count": 20,
   "metadata": {},
   "outputs": [
    {
     "output_type": "execute_result",
     "data": {
      "text/plain": [
       "<_io.TextIOWrapper name='/Users/miqui/Documents/Miqui/Preply/Tutor Performance/Projects/Q3/TWA/Project.ipynb' mode='r' encoding='UTF-8'>"
      ]
     },
     "metadata": {},
     "execution_count": 20
    }
   ],
   "source": [
    "fd = open(r'/Users/miqui/Documents/Miqui/Preply/Tutor Performance/Projects/Q3/TWA/Project.ipynb', 'r')\n",
    "twa_query = fd.read()\n",
    "fd"
   ]
  },
  {
   "cell_type": "code",
   "execution_count": 26,
   "metadata": {},
   "outputs": [],
   "source": [
    "file = open('/Users/miqui/Documents/Miqui/Preply/Tutor Performance/Projects/Q3/TWA/TWA_Query.sql').read()"
   ]
  },
  {
   "cell_type": "code",
   "execution_count": 27,
   "metadata": {},
   "outputs": [],
   "source": [
    "data = pd.read_sql(file, con)\n",
    "\n"
   ]
  },
  {
   "cell_type": "code",
   "execution_count": 30,
   "metadata": {},
   "outputs": [
    {
     "output_type": "execute_result",
     "data": {
      "text/plain": [
       "           tutor_id    student_id       duration  is_back_to_back_lesson  \\\n",
       "count  3.423070e+05  3.423070e+05  342307.000000           342307.000000   \n",
       "mean   7.747663e+05  2.817090e+06       0.999623                0.051363   \n",
       "std    4.834812e+05  8.770846e+05       0.023252                0.220738   \n",
       "min    1.100000e+01  5.460000e+02       0.250000                0.000000   \n",
       "25%    3.171000e+05  2.510312e+06       1.000000                0.000000   \n",
       "50%    7.908640e+05  3.017002e+06       1.000000                0.000000   \n",
       "75%    1.174245e+06  3.460227e+06       1.000000                0.000000   \n",
       "max    1.805715e+06  3.956579e+06       3.500000                1.000000   \n",
       "\n",
       "       booking_window     lesson_id  tutor_lesson_order  days_since_last_seen  \\\n",
       "count   342307.000000  3.423070e+05       342307.000000         307258.000000   \n",
       "mean        82.787133  1.431284e+07          776.119700              2.101807   \n",
       "std         86.234213  2.092263e+06         1575.258528             10.764174   \n",
       "min       -362.000000  8.255131e+06            1.000000              0.000000   \n",
       "25%         31.000000  1.248666e+07           24.000000              1.000000   \n",
       "50%         55.000000  1.410314e+07          160.000000              1.000000   \n",
       "75%        103.000000  1.614530e+07          789.000000              2.000000   \n",
       "max       5732.000000  1.829060e+07        18291.000000           1275.000000   \n",
       "\n",
       "       local_lesson_hour  hour_offset_tutor  hour_offset_student  \\\n",
       "count      342307.000000      342307.000000        342275.000000   \n",
       "mean           14.409536           0.654047            -0.170369   \n",
       "std             4.952770           4.305341             4.434083   \n",
       "min             0.000000         -11.000000           -11.000000   \n",
       "25%            11.000000          -2.000000            -5.000000   \n",
       "50%            15.000000           1.000000             1.000000   \n",
       "75%            18.000000           2.000000             2.000000   \n",
       "max            23.000000          11.000000            12.000000   \n",
       "\n",
       "       hour_differences_tutor_student  local_booking_hour  \\\n",
       "count                   342275.000000       342307.000000   \n",
       "mean                         3.830852           13.302226   \n",
       "std                          4.070261            6.422135   \n",
       "min                          0.000000            0.000000   \n",
       "25%                          1.000000            9.000000   \n",
       "50%                          2.000000           14.000000   \n",
       "75%                          6.000000           19.000000   \n",
       "max                         22.000000           23.000000   \n",
       "\n",
       "       num_lessons_per_day  one_lesson_per_day      app_usage  response_time  \n",
       "count        342307.000000       342307.000000  342307.000000  241799.000000  \n",
       "mean              1.607671            0.657173       0.429451       6.852768  \n",
       "std               1.211759            0.474655       0.494999      28.499487  \n",
       "min               1.000000            0.000000       0.000000       0.000000  \n",
       "25%               1.000000            0.000000       0.000000       1.350000  \n",
       "50%               1.000000            1.000000       0.000000       2.850000  \n",
       "75%               2.000000            1.000000       1.000000       5.810000  \n",
       "max              24.000000            1.000000       1.000000    1872.020000  "
      ],
      "text/html": "<div>\n<style scoped>\n    .dataframe tbody tr th:only-of-type {\n        vertical-align: middle;\n    }\n\n    .dataframe tbody tr th {\n        vertical-align: top;\n    }\n\n    .dataframe thead th {\n        text-align: right;\n    }\n</style>\n<table border=\"1\" class=\"dataframe\">\n  <thead>\n    <tr style=\"text-align: right;\">\n      <th></th>\n      <th>tutor_id</th>\n      <th>student_id</th>\n      <th>duration</th>\n      <th>is_back_to_back_lesson</th>\n      <th>booking_window</th>\n      <th>lesson_id</th>\n      <th>tutor_lesson_order</th>\n      <th>days_since_last_seen</th>\n      <th>local_lesson_hour</th>\n      <th>hour_offset_tutor</th>\n      <th>hour_offset_student</th>\n      <th>hour_differences_tutor_student</th>\n      <th>local_booking_hour</th>\n      <th>num_lessons_per_day</th>\n      <th>one_lesson_per_day</th>\n      <th>app_usage</th>\n      <th>response_time</th>\n    </tr>\n  </thead>\n  <tbody>\n    <tr>\n      <th>count</th>\n      <td>3.423070e+05</td>\n      <td>3.423070e+05</td>\n      <td>342307.000000</td>\n      <td>342307.000000</td>\n      <td>342307.000000</td>\n      <td>3.423070e+05</td>\n      <td>342307.000000</td>\n      <td>307258.000000</td>\n      <td>342307.000000</td>\n      <td>342307.000000</td>\n      <td>342275.000000</td>\n      <td>342275.000000</td>\n      <td>342307.000000</td>\n      <td>342307.000000</td>\n      <td>342307.000000</td>\n      <td>342307.000000</td>\n      <td>241799.000000</td>\n    </tr>\n    <tr>\n      <th>mean</th>\n      <td>7.747663e+05</td>\n      <td>2.817090e+06</td>\n      <td>0.999623</td>\n      <td>0.051363</td>\n      <td>82.787133</td>\n      <td>1.431284e+07</td>\n      <td>776.119700</td>\n      <td>2.101807</td>\n      <td>14.409536</td>\n      <td>0.654047</td>\n      <td>-0.170369</td>\n      <td>3.830852</td>\n      <td>13.302226</td>\n      <td>1.607671</td>\n      <td>0.657173</td>\n      <td>0.429451</td>\n      <td>6.852768</td>\n    </tr>\n    <tr>\n      <th>std</th>\n      <td>4.834812e+05</td>\n      <td>8.770846e+05</td>\n      <td>0.023252</td>\n      <td>0.220738</td>\n      <td>86.234213</td>\n      <td>2.092263e+06</td>\n      <td>1575.258528</td>\n      <td>10.764174</td>\n      <td>4.952770</td>\n      <td>4.305341</td>\n      <td>4.434083</td>\n      <td>4.070261</td>\n      <td>6.422135</td>\n      <td>1.211759</td>\n      <td>0.474655</td>\n      <td>0.494999</td>\n      <td>28.499487</td>\n    </tr>\n    <tr>\n      <th>min</th>\n      <td>1.100000e+01</td>\n      <td>5.460000e+02</td>\n      <td>0.250000</td>\n      <td>0.000000</td>\n      <td>-362.000000</td>\n      <td>8.255131e+06</td>\n      <td>1.000000</td>\n      <td>0.000000</td>\n      <td>0.000000</td>\n      <td>-11.000000</td>\n      <td>-11.000000</td>\n      <td>0.000000</td>\n      <td>0.000000</td>\n      <td>1.000000</td>\n      <td>0.000000</td>\n      <td>0.000000</td>\n      <td>0.000000</td>\n    </tr>\n    <tr>\n      <th>25%</th>\n      <td>3.171000e+05</td>\n      <td>2.510312e+06</td>\n      <td>1.000000</td>\n      <td>0.000000</td>\n      <td>31.000000</td>\n      <td>1.248666e+07</td>\n      <td>24.000000</td>\n      <td>1.000000</td>\n      <td>11.000000</td>\n      <td>-2.000000</td>\n      <td>-5.000000</td>\n      <td>1.000000</td>\n      <td>9.000000</td>\n      <td>1.000000</td>\n      <td>0.000000</td>\n      <td>0.000000</td>\n      <td>1.350000</td>\n    </tr>\n    <tr>\n      <th>50%</th>\n      <td>7.908640e+05</td>\n      <td>3.017002e+06</td>\n      <td>1.000000</td>\n      <td>0.000000</td>\n      <td>55.000000</td>\n      <td>1.410314e+07</td>\n      <td>160.000000</td>\n      <td>1.000000</td>\n      <td>15.000000</td>\n      <td>1.000000</td>\n      <td>1.000000</td>\n      <td>2.000000</td>\n      <td>14.000000</td>\n      <td>1.000000</td>\n      <td>1.000000</td>\n      <td>0.000000</td>\n      <td>2.850000</td>\n    </tr>\n    <tr>\n      <th>75%</th>\n      <td>1.174245e+06</td>\n      <td>3.460227e+06</td>\n      <td>1.000000</td>\n      <td>0.000000</td>\n      <td>103.000000</td>\n      <td>1.614530e+07</td>\n      <td>789.000000</td>\n      <td>2.000000</td>\n      <td>18.000000</td>\n      <td>2.000000</td>\n      <td>2.000000</td>\n      <td>6.000000</td>\n      <td>19.000000</td>\n      <td>2.000000</td>\n      <td>1.000000</td>\n      <td>1.000000</td>\n      <td>5.810000</td>\n    </tr>\n    <tr>\n      <th>max</th>\n      <td>1.805715e+06</td>\n      <td>3.956579e+06</td>\n      <td>3.500000</td>\n      <td>1.000000</td>\n      <td>5732.000000</td>\n      <td>1.829060e+07</td>\n      <td>18291.000000</td>\n      <td>1275.000000</td>\n      <td>23.000000</td>\n      <td>11.000000</td>\n      <td>12.000000</td>\n      <td>22.000000</td>\n      <td>23.000000</td>\n      <td>24.000000</td>\n      <td>1.000000</td>\n      <td>1.000000</td>\n      <td>1872.020000</td>\n    </tr>\n  </tbody>\n</table>\n</div>"
     },
     "metadata": {},
     "execution_count": 30
    }
   ],
   "source": [
    "data.describe()"
   ]
  },
  {
   "cell_type": "code",
   "execution_count": null,
   "metadata": {},
   "outputs": [],
   "source": [
    "fd = open(r'C:\\Users\\Lenovo\\Documents\\to forecast twa.sql', 'r')\n",
    "twa_query = fd.read()\n",
    "fd.close()\n",
    "conn_string = \"host=\"+ creds.PGHOST +\" port=\"+ creds.PGPORT +\" dbname=\"+ creds.PGDATABASE +\" user=\" + creds.PGUSER \\\n",
    "+\" password=\"+ creds.PGPASSWORD\n",
    "conn=psycopg2.connect(conn_string)\n",
    "data = pd.read_sql(twa_query, conn)\n",
    "file = open(\"twa_20210514.pkl\",'rb')\n",
    "twa_model = pickle.load(file)\n",
    "file.close()\n",
    "data['twa_prob'] = twa_model.predict_proba(data[twa_model.get_booster().feature_names])[:,1]\n",
    "data['is_bad_twa'] = 1*(data['twa_prob']>=0.0875) # Buscar la mínima probabilidad e un tutor que ha hecho TWA.\n",
    "data = data[['tutor_id', 'twa_prob', 'is_bad_twa']]\n",
    "\n",
    "#and modelling code:\n",
    "import pandas as pd\n",
    "import numpy as np\n",
    "import xgboost as xgb\n",
    "from xgboost.sklearn import XGBClassifier,XGBRegressor\n",
    "from xgboost import plot_tree\n",
    "#import graphviz\n",
    "#from sklearn import cross_validation, metrics   #Additional scklearn functions\n",
    "#from sklearn.grid_search import GridSearchCV   #Perforing grid search\n",
    "from sklearn.model_selection import learning_curve,GridSearchCV,train_test_split\n",
    "import matplotlib.pylab as plt\n",
    "import matplotlib.pyplot as plt1\n",
    "from sklearn.metrics import mean_absolute_error\n",
    "from sklearn.metrics import accuracy_score\n",
    "from sklearn.metrics import confusion_matrix,roc_auc_score\n",
    "#import sys, os\n",
    "data = pd.read_csv('C:/Users/Lenovo/Downloads/twa_file.csv',delimiter=\";\",decimal=\",\")\n",
    "data1 = data.head()\n",
    "X = data.drop(['is_twa', 'flid'], axis=1)#.head(1000)\n",
    "Y = data[['is_twa']]#.head(1000)\n",
    "#X = X.head(3000)\n",
    "#Y = Y.head(3000)\n",
    "\n",
    "seed = 7\n",
    "test_size = 0.33\n",
    "X_train, X_test, y_train, y_test = train_test_split(X, Y, test_size=test_size, random_state=seed)\n",
    "dtrain = xgb.DMatrix(X_train, label=y_train)\n",
    "dtest = xgb.DMatrix(X_test, label=y_test)\n",
    "model = XGBClassifier(max_depth=5,\n",
    "                           min_child_weight=9,\n",
    "                           learning_rate=0.05,\n",
    "                           n_estimators=80,\n",
    "                           objective='binary:logistic',\n",
    "                           eval_metric = 'auc',\n",
    "                           gamma=0,\n",
    "                           max_delta_step=0,\n",
    "                           subsample=0.8,\n",
    "                           colsample_bytree=0.86,\n",
    "                           colsample_bylevel=0.67,\n",
    "                           reg_alpha=0,\n",
    "                           reg_lambda=2.8,\n",
    "                           scale_pos_weight=1,\n",
    "                           seed=1)\n",
    "eval_set  = [( X_train, y_train), ( X_test, y_test)]\n",
    "model.fit(X_train, y_train,eval_set=eval_set,early_stopping_rounds=10)\n",
    "# import pickle\n",
    "# file_name = \"twa_20210514.pkl\"\n",
    "# # save\n",
    "# pickle.dump(model, open(file_name, \"wb\"))\n",
    "y_pred = model.predict_proba(X_test)[:,1]"
   ]
  }
 ]
}